{
 "cells": [
  {
   "cell_type": "markdown",
   "id": "7400f547-d35f-48e9-a0cd-5bb5de81b138",
   "metadata": {},
   "source": [
    "# Tutorial 5: Convolutional Neural Networks\n",
    "\n",
    "Convolutional neural networks (CNNs) are similar to feedforward neural networks (i.e., multilayer perceptrons or MLPs) in that they are made up a series of layers, with layers consisting of a linear transformation followed by a non-linear activation function. However, CNNs are different from MLPs in that they assume the input data is spatial, i.e., given by a grid of pixels forming a one, two, or three dimensional image. The form of the linear transformation is also different in CNNs than in MLPs: while MLPs involve multiplying the input at each layer by a matrix of size $\\mathbb{R}^{d_{in} \\times d_{out}}$, CNNs perform convolutions between the input at each layer and a set of spatial filters which are much smaller than the input. In two dimensions, each filter might be of size $\\mathbb{R}^{3\\times 3}$ or $\\mathbb{R}^{5\\times 5}$. These convolutional layers tend to use many fewer parameters than MLPs, as we will see.\n",
    "\n",
    "The defining aspect of a CNN is the convolutional layer. However, CNNs can also involve other layers. For example, pooling layers are often used to reduce the size of the input. A pooling layer takes a $p \\times p$ patch of the input, and outputs a single pixel which involves applying a linear or non-linear operation to that patch of pixels. One popular pooling operation is the max-pool, which outputs the maximum value of the pixels in the patch. A pooling operation transforms an input of size $\\mathbb{R}^{n_x \\times n_y \\times d}$ to one of size $\\mathbb{R}^{n_x/p \\times n_y/p \\times d}$ where $d$ is the \"depth\" of the input. CNNs can also have feedforward layers, in which a matrix multiplication is performed. These feedforward layers are usually applied towards the end of a CNN, after convolutional layers and pooling layers have been applied.\n",
    "\n",
    "CNNs can be understood as encoding the inductive bias that the output of the neural network should be invariant to translation of the input image. For example, if a neural network is used for classification, we know a priori that an image of a cat (given as a matrix of pixels) should be labeled as a cat regardless of where in the image the cat appears. Shifting the cat to the left, right, up, or down should not change the fact that the image remains of a cat. This inductive bias appears in CNNs due to the shift equivariance of the convolutional layers: if the input to a convolution is shifted to the right or left, the output of the convolution is also shifted to the right or left. (Although CNNs attempt to encode the inductive bias of translation invariance, they are not in fact translation equivariant, for a variety of reasons. Nevertheless, CNNs work well in practice for many applications which the inductive bias of translation equivariance holds.)\n",
    "\n",
    "Good resources on CNNs include Chapter 9 of the [Deep Learning Book](https://www.deeplearningbook.org/) and Stanford's CS231n [course notes](https://cs231n.github.io/)."
   ]
  },
  {
   "cell_type": "markdown",
   "id": "5df5ddc2-dd38-495a-bde0-47a41b9a6bc3",
   "metadata": {},
   "source": [
    "### 5.1: The Convolution Operation\n",
    "\n",
    "In 1D, the convolution operation between two continuous functions $f(x)$ and $g(x)$ is given by $$f*g(x) = \\int_{-\\infty}^{\\infty} f(x-y) g(y) dy.$$ For two vectors $I$ and $F$ in 1D, the $i$th index of their convolution is given by $$(I*F)_i = \\sum_{j}I_{i-j}F_j.$$ Let's illustrate with an example. Suppose $I = \\begin{bmatrix}1 \\\\ 2 \\\\ 3 \\\\ 4 \\\\ 5 \\end{bmatrix}$ and $F = \\begin{bmatrix}-0.5 \\\\ 1.0 \\end{bmatrix}$. The convolution of $I$ and $F$ is given by $$I*F = \\begin{bmatrix} I_0 F_0 \\\\ I_1 F_0 + I_0 F_1 \\\\ I_2 F_0 + I_1 F_1 \\\\ I_3 F_0 + I_2 F_1 \\\\ I_4 F_0 + I_3 F_1 \\\\ I_4 F_1 \\end{bmatrix} = \\begin{bmatrix} 1*-0.5 \\\\ 2*-0.5 + 1*1 \\\\ 3*-0.5 + 2 * 1 \\\\ 4 * -0.5 + 3 * 1 \\\\ 5 * -0.5 + 4 * 1 \\\\ 5 * 1 \\end{bmatrix} = \\begin{bmatrix} -0.5 \\\\ 0 \\\\ 0.5 \\\\ 1 \\\\ 1.5 \\\\ 5 \\end{bmatrix}.$$ We can verify this using `jax.numpy`."
   ]
  },
  {
   "cell_type": "code",
   "execution_count": 1,
   "id": "8b1d3247-212c-450c-ad7b-ac82fa03de14",
   "metadata": {},
   "outputs": [
    {
     "name": "stdout",
     "output_type": "stream",
     "text": [
      "[-0.5  0.   0.5  1.   1.5  5. ]\n"
     ]
    }
   ],
   "source": [
    "import numpy as np\n",
    "\n",
    "I = np.asarray([1.,2.,3.,4.,5.])\n",
    "F = np.asarray([-0.5, 1.0])\n",
    "\n",
    "conv = np.convolve(I, F)\n",
    "print(conv)"
   ]
  },
  {
   "cell_type": "markdown",
   "id": "57468ca9-2b39-4e79-a6cb-b2840a941cce",
   "metadata": {},
   "source": [
    "The convolution operation can be understood as extracting patches of an image $I$ equal in size to the size of the convolutional filter $F$, and taking the dot product of each patch times the (reversed) filter. \n",
    "\n",
    "Note that there are different types of convolutions. In the above example, we used the `full` convolution. Every possible convolutional operation was performed, so the resulting vector was of length $len(I)+len(F) - 1$. We could also have performed a `same` convolution, which returns a vector of length $max(len(I), len(F))$, or a `valid` convolution, which returns a vector of length $max(len(I), len(F)) - min(len(I), len(F)) + 1$."
   ]
  },
  {
   "cell_type": "code",
   "execution_count": 2,
   "id": "ae7e99d0-2e23-4302-a775-2b009ad2d0a0",
   "metadata": {},
   "outputs": [
    {
     "name": "stdout",
     "output_type": "stream",
     "text": [
      "(6,)\n",
      "(5,)\n",
      "(4,)\n",
      "[-0.5  0.   0.5  1.   1.5  5. ]\n",
      "[-0.5  0.   0.5  1.   1.5]\n",
      "[0.  0.5 1.  1.5]\n"
     ]
    }
   ],
   "source": [
    "conv_full = np.convolve(I, F, mode = 'full')\n",
    "conv_same = np.convolve(I, F, mode = 'same')\n",
    "conv_valid = np.convolve(I, F, mode = 'valid')\n",
    "\n",
    "print(conv_full.shape)\n",
    "print(conv_same.shape)\n",
    "print(conv_valid.shape)\n",
    "\n",
    "print(conv_full)\n",
    "print(conv_same)\n",
    "print(conv_valid)"
   ]
  },
  {
   "cell_type": "markdown",
   "id": "0b170d41-e3dd-409f-87be-c6dbf7cc8716",
   "metadata": {},
   "source": [
    "`full` and `same` convolutions involve padding one or the inputs with zeros, while `valid` convolutions do not involve padding. "
   ]
  },
  {
   "cell_type": "markdown",
   "id": "13634732-c201-426c-9618-c525cb4a1ea3",
   "metadata": {},
   "source": [
    "#### 5.1.1: Convolution as matrix multiplication\n",
    "\n",
    "The convolution operation can be interpreted as performing a matrix multiplication. The matrix corresponding to a convolutional filter is sparse, and many of the entries are identical. \n",
    "\n",
    "To perform a `full` convolution operation between $I$ and $F$ from the previous example as a matrix multiplication, we begin by padding $I$ with $len(F) - 1$ zeros. We then convert $F$ into a Toeplitz matrix and multiply the padded vector times the matrix."
   ]
  },
  {
   "cell_type": "code",
   "execution_count": 3,
   "id": "38c5259c-dec8-40d4-9ba9-d2d5355affea",
   "metadata": {},
   "outputs": [],
   "source": [
    "def toeplitz_matrix(I_padded, F):\n",
    "    toeplitz_matrix = np.zeros((I_padded.shape[0], I_padded.shape[0]))\n",
    "    for i in range(I_padded.shape[0]):\n",
    "        for j in range(F.shape[0]):\n",
    "            if i - j >= 0 and i - j <= I_padded.shape[0]:\n",
    "                toeplitz_matrix[i,i-j] = F[j]\n",
    "\n",
    "    return toeplitz_matrix\n",
    "\n",
    "def get_I_padded(I):\n",
    "    pad_left = np.zeros(np.floor((F.shape[0]-1)/2).astype(int))\n",
    "    pad_right = np.zeros(np.ceil((F.shape[0]-1)/2).astype(int))\n",
    "    return np.append(np.append(pad_left, I), pad_right)\n",
    "\n",
    "def matrix_convolution(I, F, mode = 'full'):\n",
    "    assert mode == 'full'\n",
    "    assert len(I.shape) == len(F.shape) == 1\n",
    "\n",
    "    I_padded = get_I_padded(I)\n",
    "    \n",
    "    # I should be longer than F\n",
    "    if F.shape[0] > I.shape[0]: \n",
    "        temp = F\n",
    "        F = I\n",
    "        I = temp\n",
    "        \n",
    "    toeplitz = toeplitz_matrix(I_padded, F)\n",
    "\n",
    "    return toeplitz @ I_padded\n",
    "    "
   ]
  },
  {
   "cell_type": "code",
   "execution_count": 4,
   "id": "64adbe36-be62-4a98-a892-1173fa580c53",
   "metadata": {},
   "outputs": [
    {
     "name": "stdout",
     "output_type": "stream",
     "text": [
      "[[-0.5  0.   0.   0.   0.   0. ]\n",
      " [ 1.  -0.5  0.   0.   0.   0. ]\n",
      " [ 0.   1.  -0.5  0.   0.   0. ]\n",
      " [ 0.   0.   1.  -0.5  0.   0. ]\n",
      " [ 0.   0.   0.   1.  -0.5  0. ]\n",
      " [ 0.   0.   0.   0.   1.  -0.5]]\n",
      "[-0.5  0.   0.5  1.   1.5  5. ]\n"
     ]
    }
   ],
   "source": [
    "I = np.asarray([1.,2.,3.,4.,5.])\n",
    "F = np.asarray([-0.5, 1.0])\n",
    "toeplitz = toeplitz_matrix(get_I_padded(I), F)\n",
    "\n",
    "print(toeplitz)\n",
    "\n",
    "conv = matrix_convolution(I, F)\n",
    "print(conv)"
   ]
  },
  {
   "cell_type": "markdown",
   "id": "66dc933e-5d2a-4f0c-b07d-c34e0f3aea23",
   "metadata": {},
   "source": [
    "We won't perform `same` or `valid` convolutions using matrix multiplication, but those can also be done using matrix multiplication."
   ]
  },
  {
   "cell_type": "markdown",
   "id": "aa23f602-9919-48bc-9fc4-1cc10fb088c0",
   "metadata": {},
   "source": [
    "### 5.2: Convolutional layers for image recognition\n",
    "\n",
    "An image is given by a 2D matrix of pixels of size $\\mathbb{R}^{n_x \\times n_y \\times d_{in}}$, where $d_{in}$ is the number of dimensions for each pixel in the image. For a grayscale image, $d_{in} = 1$, while for an image using the RGB scheme, $d_{in} = 3$.\n",
    "\n",
    "A convolutional layer applies a series of 2D convolutional filters to the input matrix. Typically, these filters are of shape $\\mathbb{R}^{3\\times 3}$ or $\\mathbb{R}^{5\\times 5}$, and the inputs are padded with zeros to perform a `same` convolution. There are $d_{out}$ filters, so that a convolutional layer is a tranformation from $$\\mathbb{R}^{n_x \\times n_y \\times d_{in}} \\rightarrow \\mathbb{R}^{n_x \\times n_y \\times d_{out}}.$$ For a 2D image $I$, each convolutional filter $F$ performs the operation $$(I*F)_{i,j} = \\sum_k \\sum_l I_{i+k,j+l}F_{k,l}.$$ Note that this operation is not exactly a convolution: in a convolution, the filter $F$ is reversed, so that the indices go as $i-k$ and $j-l$. Here the filter $F$ is not reversed. This operation, which is very similar to a convolution, is called the cross-correlation. \n",
    "\n",
    "We can implement convolutional layers in `flax` as follows. We'll implement a simple network with two convolutional layers. "
   ]
  },
  {
   "cell_type": "code",
   "execution_count": 5,
   "id": "5f8a2f59-7171-45b9-987b-a0197cba7866",
   "metadata": {},
   "outputs": [],
   "source": [
    "import flax\n",
    "import jax\n",
    "import jax.numpy as jnp\n",
    "from flax import nnx"
   ]
  },
  {
   "cell_type": "code",
   "execution_count": 6,
   "id": "38cb2eac-d6a1-4249-bde6-a36e0e5518cf",
   "metadata": {},
   "outputs": [],
   "source": [
    "class ConvLayers(nnx.Module):\n",
    "    def __init__(self, din: int, dmid: int, dout: int, kernel_width: int, rngs: nnx.Rngs):\n",
    "        self.conv1 = nnx.Conv(din, dmid, kernel_size = (kernel_width, kernel_width), rngs=rngs)\n",
    "        self.conv2 = nnx.Conv(dmid, dout, kernel_size = (kernel_width, kernel_width), rngs=rngs)\n",
    "\n",
    "    def __call__(self, x):\n",
    "        x = nnx.relu(self.conv1(x))\n",
    "        x = nnx.relu(self.conv2(x))"
   ]
  },
  {
   "cell_type": "markdown",
   "id": "12c8dfa0-ba28-41a4-ab51-a400a273191f",
   "metadata": {},
   "source": [
    "Our network will take an image of pixels with 3 features per pixel. The first convolutional layer will output an image with 16 feature dimensions per pixel, and the second convolutional layer will have 32 feature dimensions per pixel. We'll use a kernel of width 3, meaning that each convolutional filter is of size (3, 3)."
   ]
  },
  {
   "cell_type": "code",
   "execution_count": 7,
   "id": "c71541f9-aa6b-4b93-8c9d-4d6291ba6a60",
   "metadata": {},
   "outputs": [],
   "source": [
    "rngs = nnx.Rngs(0)\n",
    "model = ConvLayers(3, 16, 32, 3, rngs)"
   ]
  },
  {
   "cell_type": "markdown",
   "id": "af3ae024-b667-4e44-9b9c-b635d164b075",
   "metadata": {},
   "source": [
    "We can see the parameters of the model below."
   ]
  },
  {
   "cell_type": "code",
   "execution_count": 8,
   "id": "d7802460-39be-466c-8806-0f193749a531",
   "metadata": {},
   "outputs": [
    {
     "name": "stdout",
     "output_type": "stream",
     "text": [
      "ConvLayers(\n",
      "  conv1=Conv(\n",
      "    kernel_shape=(3, 3, 3, 16),\n",
      "    kernel=Param(\n",
      "      value=Array(shape=(3, 3, 3, 16), dtype=float32)\n",
      "    ),\n",
      "    bias=Param(\n",
      "      value=Array(shape=(16,), dtype=float32)\n",
      "    ),\n",
      "    in_features=3,\n",
      "    out_features=16,\n",
      "    kernel_size=(3, 3),\n",
      "    strides=1,\n",
      "    padding='SAME',\n",
      "    input_dilation=1,\n",
      "    kernel_dilation=1,\n",
      "    feature_group_count=1,\n",
      "    use_bias=True,\n",
      "    mask=None,\n",
      "    dtype=None,\n",
      "    param_dtype=<class 'jax.numpy.float32'>,\n",
      "    precision=None,\n",
      "    kernel_init=<function variance_scaling.<locals>.init at 0x10d640180>,\n",
      "    bias_init=<function zeros at 0x10c930360>,\n",
      "    conv_general_dilated=<function conv_general_dilated at 0x10c2cac00>\n",
      "  ),\n",
      "  conv2=Conv(\n",
      "    kernel_shape=(3, 3, 16, 32),\n",
      "    kernel=Param(\n",
      "      value=Array(shape=(3, 3, 16, 32), dtype=float32)\n",
      "    ),\n",
      "    bias=Param(\n",
      "      value=Array(shape=(32,), dtype=float32)\n",
      "    ),\n",
      "    in_features=16,\n",
      "    out_features=32,\n",
      "    kernel_size=(3, 3),\n",
      "    strides=1,\n",
      "    padding='SAME',\n",
      "    input_dilation=1,\n",
      "    kernel_dilation=1,\n",
      "    feature_group_count=1,\n",
      "    use_bias=True,\n",
      "    mask=None,\n",
      "    dtype=None,\n",
      "    param_dtype=<class 'jax.numpy.float32'>,\n",
      "    precision=None,\n",
      "    kernel_init=<function variance_scaling.<locals>.init at 0x10d640180>,\n",
      "    bias_init=<function zeros at 0x10c930360>,\n",
      "    conv_general_dilated=<function conv_general_dilated at 0x10c2cac00>\n",
      "  )\n",
      ")\n"
     ]
    }
   ],
   "source": [
    "nnx.display(model)"
   ]
  },
  {
   "cell_type": "markdown",
   "id": "7f588d91-1d87-44bf-86d8-ea0e2660689b",
   "metadata": {},
   "source": [
    "Although every pixel in the input is not connected to every pixel in the output (each pixel in the output is only affected by 9 pixels in the input, corresponding to a 3x3 patch around that pixel in the input image), every feature dimension in the input is connected to every feature dimension in the output. This means that each pixel in each of the 16 dimensions in the output to convolutional layer 1 is equal to the sum of three convolutions, over each of the three input dimensions, plus a constant bias term. Similarly, each of the 32 dimensions in the output of convolutional layer 2 is equal to the sum of 16 convolutions, plus a constant bias term. \n",
    "\n",
    "How many parameters are in our model? In layer 1, each convolutional filter is of size 3x3. There are $d_{in}\\times d_{out} = 3 \\times 16$ convolutional filters in layer 1, plus $d_{out} = 16$ bias terms, for a total of $3\\times 3 \\times 3 \\times 16 + 16 = 448$ parameters in layer 1. In layer 2, there are $3 \\times 3 \\times 16 \\times 32 + 32 = 4,640$ parameters. Thus, the model has a total of 5088 parameters."
   ]
  },
  {
   "cell_type": "code",
   "execution_count": 9,
   "id": "765b8bb4-c0e1-43d4-9067-f57f21d883aa",
   "metadata": {},
   "outputs": [
    {
     "name": "stdout",
     "output_type": "stream",
     "text": [
      "5088\n"
     ]
    }
   ],
   "source": [
    "graphdef, params = nnx.split(model, nnx.Param)\n",
    "print(sum(x.size for x in jax.tree.leaves(params)))"
   ]
  },
  {
   "cell_type": "markdown",
   "id": "14c55282-bb92-4b88-bf6f-27c69719be17",
   "metadata": {},
   "source": [
    "### 5.3: Convolutional Neural Networks for classification on MNIST\n",
    "\n",
    "One of the tutorial examples for using `flax` is to train a convolutional neural network on MNIST. \n",
    "\n",
    "#### 5.3.1: Implement CNN model\n",
    "\n",
    "First, we will implement a convolutional neural network in flax. We will use two convolutional layers, with each layer followed by a ReLU non-linearity and a max pooling operation. We'll then reshape our hidden units into a single feature vector, and apply one feedforward layers followed by one linear layer.\n",
    "\n",
    "Our first conv layer's output will be of shape $(28, 28, 32)$. We'll then apply a max pooling layer, so that the shape will be $(14, 14, 32)$. The next conv layer's output will then be $(14, 14, 64)$, to which we'll apply a max pooling layer, to give a shape of $(7, 7, 64)$. This will then be converted into a single feature vector of length $3,136$, which will be given to a feedforward layer with 256 hidden units. Our output layer will have 10 units, corresponding to each of the 10 digits in MNIST. "
   ]
  },
  {
   "cell_type": "code",
   "execution_count": 10,
   "id": "7691fbea-60b5-4e98-8d9b-59535509f0f2",
   "metadata": {},
   "outputs": [],
   "source": [
    "import flax\n",
    "import jax\n",
    "import jax.numpy as jnp\n",
    "from flax import nnx\n",
    "from functools import partial\n",
    "import optax"
   ]
  },
  {
   "cell_type": "code",
   "execution_count": 11,
   "id": "f3959a12-4e3a-45c4-9366-3b68c11d63b7",
   "metadata": {},
   "outputs": [],
   "source": [
    "class ConvNetMNIST(nnx.Module):\n",
    "    def __init__(self, rngs: nnx.Rngs):\n",
    "        self.conv1 = nnx.Conv(1, 32, kernel_size=(3,3), rngs=rngs)\n",
    "        self.conv2 = nnx.Conv(32, 64, kernel_size=(3,3), rngs=rngs)\n",
    "        self.linear1 = nnx.Linear(3136, 256, rngs=rngs)\n",
    "        self.linear2 = nnx.Linear(256, 10, rngs=rngs)\n",
    "        self.max_pool = partial(nnx.max_pool, window_shape=(2, 2), strides=(2, 2))\n",
    "\n",
    "    def __call__(self, x):\n",
    "        x = nnx.relu(self.conv1(x))\n",
    "        x = self.max_pool(x)\n",
    "        x = nnx.relu(self.conv2(x))\n",
    "        x = self.max_pool(x)\n",
    "        x = x.reshape(x.shape[0], -1) # assumes there is batch dimension\n",
    "        x = nnx.relu(self.linear1(x))\n",
    "        return self.linear2(x)"
   ]
  },
  {
   "cell_type": "code",
   "execution_count": 12,
   "id": "208b5f7e-4d3a-40fb-b6bb-4ca353750c2a",
   "metadata": {},
   "outputs": [
    {
     "name": "stdout",
     "output_type": "stream",
     "text": [
      "(1, 10)\n"
     ]
    }
   ],
   "source": [
    "# test model to make sure it gives right output\n",
    "\n",
    "test_im = np.zeros((1, 28, 28, 1))\n",
    "model = ConvNetMNIST(nnx.Rngs(0))\n",
    "print(model(test_im).shape)\n",
    "\n"
   ]
  },
  {
   "cell_type": "code",
   "execution_count": 13,
   "id": "3605e8fe-ee41-49ca-86af-c1a938b8c6ff",
   "metadata": {},
   "outputs": [
    {
     "name": "stdout",
     "output_type": "stream",
     "text": [
      "ConvNetMNIST(\n",
      "  conv1=Conv(\n",
      "    kernel_shape=(3, 3, 1, 32),\n",
      "    kernel=Param(\n",
      "      value=Array(shape=(3, 3, 1, 32), dtype=float32)\n",
      "    ),\n",
      "    bias=Param(\n",
      "      value=Array(shape=(32,), dtype=float32)\n",
      "    ),\n",
      "    in_features=1,\n",
      "    out_features=32,\n",
      "    kernel_size=(3, 3),\n",
      "    strides=1,\n",
      "    padding='SAME',\n",
      "    input_dilation=1,\n",
      "    kernel_dilation=1,\n",
      "    feature_group_count=1,\n",
      "    use_bias=True,\n",
      "    mask=None,\n",
      "    dtype=None,\n",
      "    param_dtype=<class 'jax.numpy.float32'>,\n",
      "    precision=None,\n",
      "    kernel_init=<function variance_scaling.<locals>.init at 0x10d640180>,\n",
      "    bias_init=<function zeros at 0x10c930360>,\n",
      "    conv_general_dilated=<function conv_general_dilated at 0x10c2cac00>\n",
      "  ),\n",
      "  conv2=Conv(\n",
      "    kernel_shape=(3, 3, 32, 64),\n",
      "    kernel=Param(\n",
      "      value=Array(shape=(3, 3, 32, 64), dtype=float32)\n",
      "    ),\n",
      "    bias=Param(\n",
      "      value=Array(shape=(64,), dtype=float32)\n",
      "    ),\n",
      "    in_features=32,\n",
      "    out_features=64,\n",
      "    kernel_size=(3, 3),\n",
      "    strides=1,\n",
      "    padding='SAME',\n",
      "    input_dilation=1,\n",
      "    kernel_dilation=1,\n",
      "    feature_group_count=1,\n",
      "    use_bias=True,\n",
      "    mask=None,\n",
      "    dtype=None,\n",
      "    param_dtype=<class 'jax.numpy.float32'>,\n",
      "    precision=None,\n",
      "    kernel_init=<function variance_scaling.<locals>.init at 0x10d640180>,\n",
      "    bias_init=<function zeros at 0x10c930360>,\n",
      "    conv_general_dilated=<function conv_general_dilated at 0x10c2cac00>\n",
      "  ),\n",
      "  linear1=Linear(\n",
      "    kernel=Param(\n",
      "      value=Array(shape=(3136, 256), dtype=float32)\n",
      "    ),\n",
      "    bias=Param(\n",
      "      value=Array(shape=(256,), dtype=float32)\n",
      "    ),\n",
      "    in_features=3136,\n",
      "    out_features=256,\n",
      "    use_bias=True,\n",
      "    dtype=None,\n",
      "    param_dtype=<class 'jax.numpy.float32'>,\n",
      "    precision=None,\n",
      "    kernel_init=<function variance_scaling.<locals>.init at 0x10d640180>,\n",
      "    bias_init=<function zeros at 0x10c930360>,\n",
      "    dot_general=<function dot_general at 0x10c262200>\n",
      "  ),\n",
      "  linear2=Linear(\n",
      "    kernel=Param(\n",
      "      value=Array(shape=(256, 10), dtype=float32)\n",
      "    ),\n",
      "    bias=Param(\n",
      "      value=Array(shape=(10,), dtype=float32)\n",
      "    ),\n",
      "    in_features=256,\n",
      "    out_features=10,\n",
      "    use_bias=True,\n",
      "    dtype=None,\n",
      "    param_dtype=<class 'jax.numpy.float32'>,\n",
      "    precision=None,\n",
      "    kernel_init=<function variance_scaling.<locals>.init at 0x10d640180>,\n",
      "    bias_init=<function zeros at 0x10c930360>,\n",
      "    dot_general=<function dot_general at 0x10c262200>\n",
      "  ),\n",
      "  max_pool=functools.partial(<function max_pool at 0x10cbd0900>, window_shape=(2, 2), strides=(2, 2))\n",
      ")\n"
     ]
    }
   ],
   "source": [
    "# visualize model\n",
    "nnx.display(model)"
   ]
  },
  {
   "cell_type": "markdown",
   "id": "63dbc1a2-721c-404e-89c4-607dd3280b2d",
   "metadata": {},
   "source": [
    "As we can see, most of the parameters are in the feedforward layer matrix of size 3136 by 256:"
   ]
  },
  {
   "cell_type": "code",
   "execution_count": 14,
   "id": "cfd4a78e-f246-4161-91d2-ce9a74927b96",
   "metadata": {},
   "outputs": [
    {
     "name": "stdout",
     "output_type": "stream",
     "text": [
      "[32, 288, 64, 18432, 256, 802816, 10, 2560]\n"
     ]
    },
    {
     "name": "stderr",
     "output_type": "stream",
     "text": [
      "/var/folders/tc/jbxr7_990xz0q7yz7p9gvtjh0000gp/T/ipykernel_75175/1688935083.py:3: DeprecationWarning: jax.tree_leaves is deprecated: use jax.tree.leaves (jax v0.4.25 or newer) or jax.tree_util.tree_leaves (any JAX version).\n",
      "  print([x.size for x in jax.tree_leaves(params)])\n"
     ]
    }
   ],
   "source": [
    "# count number of params\n",
    "graphdef, params = nnx.split(model, nnx.Param)\n",
    "print([x.size for x in jax.tree_leaves(params)])"
   ]
  },
  {
   "cell_type": "markdown",
   "id": "153510bd-3b49-4c86-b942-3b8f0eed3447",
   "metadata": {},
   "source": [
    "#### 5.3.2: Input data, write loss functions\n",
    "\n",
    "For this step, we'll reuse much of the code from tutorial 4, where we trained an MLP to classify digits using the MNIST dataset."
   ]
  },
  {
   "cell_type": "code",
   "execution_count": 15,
   "id": "91b2e6ae-c1f0-4f84-a901-603755983968",
   "metadata": {},
   "outputs": [],
   "source": [
    "import tensorflow_datasets as tfds  # TFDS to download MNIST.\n",
    "import tensorflow as tf  # TensorFlow / `tf.data` operations.\n",
    "import matplotlib.pyplot as plt\n",
    "tf.random.set_seed(0)  # Set the random seed for reproducibility.\n",
    "\n",
    "train_ds: tf.data.Dataset = tfds.load('mnist', split='train', data_dir='datasets/tensorflow_datasets')\n",
    "test_ds: tf.data.Dataset = tfds.load('mnist', split='test', data_dir='datasets/tensorflow_datasets')\n",
    "\n",
    "# normalize train set\n",
    "train_ds = train_ds.map(\n",
    "  lambda sample: {\n",
    "    'image': tf.cast(sample['image'], tf.float32) / 255,\n",
    "    'label': sample['label'],\n",
    "  }\n",
    ") \n",
    "# Normalize test set\n",
    "test_ds = test_ds.map(\n",
    "  lambda sample: {\n",
    "    'image': tf.cast(sample['image'], tf.float32) / 255,\n",
    "    'label': sample['label'],\n",
    "  }\n",
    ")\n",
    "\n",
    "batch_size = 32\n",
    "num_epochs = 5\n",
    "buffer_size = 1024\n",
    "lr = 1e-3\n",
    "momentum = 0.9\n",
    "\n",
    "train_ds_iterator = train_ds.shuffle(buffer_size = 1024).batch(batch_size, drop_remainder=True).repeat(num_epochs).prefetch(1)\n",
    "test_ds_iterator = test_ds.batch(batch_size, drop_remainder = True)\n",
    "\n",
    "optimizer = nnx.Optimizer(model, optax.adamw(lr, momentum))\n",
    "\n",
    "metrics = nnx.MultiMetric(\n",
    "  accuracy=nnx.metrics.Accuracy(),\n",
    "  loss=nnx.metrics.Average('loss'),\n",
    ")\n",
    "\n",
    "def loss_fn(model: ConvNetMNIST, batch):\n",
    "    logits = model(batch['image'])\n",
    "    loss = jnp.mean(optax.softmax_cross_entropy_with_integer_labels(logits, batch['label']))\n",
    "    return loss, logits\n",
    "\n",
    "@nnx.jit\n",
    "def train_step(model: ConvNetMNIST, optimizer: nnx.Optimizer, metrics: nnx.MultiMetric, batch):\n",
    "    grad_fn = nnx.value_and_grad(loss_fn, has_aux = True)\n",
    "    (loss, logits), grads = grad_fn(model, batch)\n",
    "    metrics.update(loss = loss, logits=logits, labels=batch['label'])\n",
    "    optimizer.update(grads)\n",
    "\n",
    "@nnx.jit\n",
    "def eval_step(model: ConvNetMNIST, metrics: nnx.MultiMetric, batch):\n",
    "  loss, logits = loss_fn(model, batch)\n",
    "  metrics.update(loss=loss, logits=logits, labels=batch['label'])  # In-place updates."
   ]
  },
  {
   "cell_type": "markdown",
   "id": "97673853-f5e7-4111-9c7a-860d61b22c6e",
   "metadata": {},
   "source": [
    "#### 5.3.3: Train model\n",
    "\n",
    "We'll again reuse code from tutorial 4."
   ]
  },
  {
   "cell_type": "code",
   "execution_count": 16,
   "id": "e2128b94-c751-4917-912c-7462d1f0ca16",
   "metadata": {},
   "outputs": [],
   "source": [
    "from IPython.display import clear_output\n",
    "eval_every = 200\n",
    "\n",
    "metrics_history = {\n",
    "  'train_loss': [],\n",
    "  'train_accuracy': [],\n",
    "  'test_loss': [],\n",
    "  'test_accuracy': [],\n",
    "}"
   ]
  },
  {
   "cell_type": "code",
   "execution_count": 17,
   "id": "50268714-d62b-4a24-a396-5e1eee86fc68",
   "metadata": {},
   "outputs": [
    {
     "data": {
      "image/png": "[encoded data removed]",
      "text/plain": [
       "<Figure size 1500x500 with 2 Axes>"
      ]
     },
     "metadata": {},
     "output_type": "display_data"
    }
   ],
   "source": [
    "for step, batch in enumerate(train_ds_iterator.as_numpy_iterator()):\n",
    "    train_step(model, optimizer, metrics, batch)\n",
    "    \n",
    "    if step % eval_every == 0:\n",
    "\n",
    "        # log training metrics to history\n",
    "        for metric, value in metrics.compute().items():\n",
    "            metrics_history[f'train_{metric}'].append(value)\n",
    "\n",
    "        # reset the metrics between each eval_every number of batches\n",
    "        # also to compute metrics on the test set\n",
    "        metrics.reset() \n",
    "\n",
    "        # loop through test set to compute metrics\n",
    "        for test_batch in test_ds_iterator.as_numpy_iterator():\n",
    "            eval_step(model, metrics, test_batch)\n",
    "\n",
    "        # log testing metrics to history\n",
    "        for metric, value in metrics.compute().items():\n",
    "            metrics_history[f'test_{metric}'].append(value)\n",
    "\n",
    "        # reset metrics for next set of training runs\n",
    "        metrics.reset()\n",
    "\n",
    "        # plot metrics over time\n",
    "        clear_output(wait=True)\n",
    "        fig, (ax1, ax2) = plt.subplots(1, 2, figsize=(15, 5))\n",
    "        ax1.set_title('Loss')\n",
    "        ax2.set_title('Accuracy')\n",
    "        for dataset in ('train', 'test'):\n",
    "          ax1.plot(metrics_history[f'{dataset}_loss'], label=f'{dataset}_loss')\n",
    "          ax2.plot(metrics_history[f'{dataset}_accuracy'], label=f'{dataset}_accuracy')\n",
    "        ax1.legend()\n",
    "        ax2.legend()\n",
    "        plt.show()\n",
    "        "
   ]
  },
  {
   "cell_type": "code",
   "execution_count": 18,
   "id": "55de40a6-2192-4cad-bda5-c29b68ef5be1",
   "metadata": {},
   "outputs": [
    {
     "name": "stdout",
     "output_type": "stream",
     "text": [
      "0.99038464\n"
     ]
    }
   ],
   "source": [
    "# clear metrics\n",
    "metrics.reset()\n",
    "\n",
    "# set model to eval mode, which is unnecessary for our CNN but is required when dropout and batchnorm are used (see future tutorials)\n",
    "model.eval()\n",
    "\n",
    "for test_batch in test_ds_iterator.as_numpy_iterator():\n",
    "    eval_step(model, metrics, test_batch)\n",
    "\n",
    "print(metrics.compute()['accuracy'])"
   ]
  },
  {
   "cell_type": "markdown",
   "id": "dfd9b2d3-d4fb-4e2e-b35d-03f3ec163cfd",
   "metadata": {},
   "source": [
    "We get an accuracy of 99.0% on the test set. This is better than our accuracy with an MLP, which was 97%. "
   ]
  },
  {
   "cell_type": "code",
   "execution_count": 19,
   "id": "38ef8dba-4498-41c2-8801-4c824f59c655",
   "metadata": {},
   "outputs": [],
   "source": [
    "@nnx.jit\n",
    "def pred_step(model: ConvNetMNIST, batch):\n",
    "    logits = model(batch['image'])\n",
    "    return logits.argmax(axis=1)"
   ]
  },
  {
   "cell_type": "code",
   "execution_count": 20,
   "id": "b9c9a487-d2fc-43c5-817e-74fcb4caeb68",
   "metadata": {},
   "outputs": [],
   "source": [
    "test_ds_iterator = test_ds.batch(25).as_numpy_iterator()"
   ]
  },
  {
   "cell_type": "code",
   "execution_count": 21,
   "id": "acbefac5-4c07-49d3-8fa4-5eaaea048fc6",
   "metadata": {},
   "outputs": [
    {
     "data": {
      "image/png": "[encoded data removed]",
      "text/plain": [
       "<Figure size 1200x1200 with 25 Axes>"
      ]
     },
     "metadata": {},
     "output_type": "display_data"
    }
   ],
   "source": [
    "test_batch = test_ds_iterator.next()\n",
    "\n",
    "preds = pred_step(model, test_batch)\n",
    "\n",
    "fig, axs = plt.subplots(5, 5, figsize=(12, 12))\n",
    "\n",
    "for i, ax in enumerate(axs.flatten()):\n",
    "    ax.imshow(test_batch['image'][i], cmap='gray')\n",
    "    ax.set_title(f'predicted label = {preds[i]}\\ntrue label = {test_batch['label'][i]}')\n",
    "    ax.axis('off')\n",
    "fig.tight_layout()"
   ]
  }
 ],
 "metadata": {
  "kernelspec": {
   "display_name": "Python 3 (ipykernel)",
   "language": "python",
   "name": "python3"
  },
  "language_info": {
   "codemirror_mode": {
    "name": "ipython",
    "version": 3
   },
   "file_extension": ".py",
   "mimetype": "text/x-python",
   "name": "python",
   "nbconvert_exporter": "python",
   "pygments_lexer": "ipython3",
   "version": "3.12.8"
  }
 },
 "nbformat": 4,
 "nbformat_minor": 5
}
