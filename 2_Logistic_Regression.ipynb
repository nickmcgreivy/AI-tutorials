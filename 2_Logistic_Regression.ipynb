{
 "cells": [
  {
   "cell_type": "markdown",
   "id": "7418ae83-65d8-4915-8460-a68949bb93e0",
   "metadata": {},
   "source": [
    "# Tutorial #2: Logistic Regression\n",
    "\n",
    "In this tutorial, we'll explain logistic regression and use it for classification of a few simple datasets. In logistic regression, the goal is to classify a datapoint into one of two or more classes. The data is given by inputs $\\boldsymbol{x}_i \\in \\mathbb{R}^d$, while the classes are described by the output $y_i$ (for binary logistic regression) or a one-hot vector $\\boldsymbol{y}_i$ (for multi-class logistic regression).\n",
    "\n",
    "### Binary logistic regression\n",
    "\n",
    "Let's assume that the output variable $y \\in [0, 1]$ is a binary variable representing one of two classes, while the input variable $\\boldsymbol{x}$ represents the features of the datapoint.  The logistic regression model outputs an estimate of the probability $\\hat{y}$ that the datapoint falls into class 1. This means that the datapoint is in class $y=1$ with probability $\\hat{y}$ and class $y=0$ with probability $1-\\hat{y}$. Thus, $$p(y|\\hat{y}) = \\hat{y}^y(1-\\hat{y})^{1-y}.$$ \n",
    "Logistic regression models output a linear function of the inputs, so that $$z = \\boldsymbol{w}^T \\boldsymbol{x}.$$ (Once again, we've hidden the bias term $b$ in this dot product by appending a dummy node with value 1 to $\\boldsymbol{x}$, so that $\\boldsymbol{w} \\in \\mathbb{R}^{d+1}$.) However, the probability $\\hat{y}$ must be between 0 and 1. To ensure that $\\hat{y}$ falls between 0 and 1, we set $\\hat{y} = \\sigma({z})$ where $\\sigma$ is the logistic function $$\\sigma(z) = \\frac{e^z}{1+e^z} = \\frac{1}{1+e^{-z}}.$$ Note that $\\sigma(z \\rightarrow \\infty) = 1$ and $\\sigma(z \\rightarrow -\\infty) = 0$. This gives $$p(y|\\boldsymbol{x}, \\boldsymbol{w}) = \\sigma(\\boldsymbol{w}^T \\boldsymbol{x})^y(1-\\sigma(\\boldsymbol{w}^T \\boldsymbol{x}))^{1-y}.$$ We then maximize the log probability of the data, which is equivalent to minimizing a loss function given by the negative log probability of the data. For a dataset with $N$ examples $\\{\\boldsymbol{x}_{i}, {y}_i\\}_{i=1}^N$, the logistic regression loss function is the cross-entropy loss $$L = -\\sum_{i=1}^N \\big[y_i \\log{\\sigma(\\boldsymbol{w}^T\\boldsymbol{x}_i)} +(1-y_i)\\log{(1-{\\sigma(\\boldsymbol{w}^T\\boldsymbol{x})})}\\big].$$\n",
    "Note that the variable $z$ is called a logit, and ranges from $z \\in [-\\infty,\\infty]$. This is because the logit function is the inverse of the logistic function, so $z = \\sigma^{-1}(\\hat{y})$. "
   ]
  },
  {
   "cell_type": "markdown",
   "id": "92d13f42-f955-4e96-ab06-929312efc661",
   "metadata": {},
   "source": [
    "### Multi-class logistic regression\n",
    "\n",
    "We can generalize binary logistic regression to multi-class logistic regression in a straightforward way. Now, the output variable $\\boldsymbol{y}_i \\in \\mathbb{R}^K$ is a one-hot vector representing which of the $K$ classes the datapoint is in. Instead of outputting one linear function $z$, the multi-class logistic regression model outputs $K$ linear functions $$\\boldsymbol{z} = \\boldsymbol{W} \\boldsymbol{x}$$\n",
    "where $\\boldsymbol{W} \\in \\mathbb{R}^{K \\times (d+1)}$. To convert the logits $\\boldsymbol{z}$ into a probability, we replace the Logistic function with the Softmax function $$\\sigma(\\boldsymbol{z})_i = \\frac{e^{z_i}}{\\sum_{j=1}^K e^{z_j}}.$$ The cross-entropy loss function is replaced with $$L = -\\sum_{k=1} y_k \\log{p(y_k|\\boldsymbol{x})} = -\\log{p(y_c|\\boldsymbol{x})}$$ where $c$ is the correct class. \n",
    "\n",
    "Useful references on Logistic Regression:\n",
    "* [COS324](https://www.cs.princeton.edu/courses/archive/spring19/cos324/) Princeton lecture notes, [Logistic Regression](https://www.cs.princeton.edu/courses/archive/spring19/cos324/files/logistic-regression.pdf)\n",
    "* [Probabilistic Machine Learning Book](https://probml.github.io/pml-book/book1.html) (Kevin Murphy), Chapter 10\n",
    "* Stanford textbook [Speech and Language Processing](https://web.stanford.edu/~jurafsky/slp3/) (Daniel Jurafsky and James H. Martin), Chapter 5\n",
    "\n",
    "We'll begin by performing logistic regression analytically using a synthetic dataset for a single scalar variable and binary outcomes, then we'll use `scikit-learn` and `flax` to perform logistic regression on a multivariate dataset with binary outcomes."
   ]
  },
  {
   "cell_type": "markdown",
   "id": "db7c07ac-1c68-4c0e-91c1-68397592cc13",
   "metadata": {},
   "source": [
    "### 2.1: Analytic Logistic Regression using `jax.numpy` and synthetic data\n",
    "\n",
    "We'll first generate some synthetic data. We'll have two classes which are not linearly separable."
   ]
  },
  {
   "cell_type": "code",
   "execution_count": 1,
   "id": "af7cdfc1-bbd6-420d-898a-6babad7ffe43",
   "metadata": {},
   "outputs": [],
   "source": [
    "import jax.numpy as jnp\n",
    "import jax.random as random\n",
    "import jax\n",
    "import matplotlib.pyplot as plt"
   ]
  },
  {
   "cell_type": "code",
   "execution_count": 2,
   "id": "49d77cf8-800c-4e66-88f6-d3b812cf7d34",
   "metadata": {},
   "outputs": [
    {
     "data": {
      "image/png": "[encoded data removed]",
      "text/plain": [
       "<Figure size 640x480 with 1 Axes>"
      ]
     },
     "metadata": {},
     "output_type": "display_data"
    }
   ],
   "source": [
    "key = random.key(0)\n",
    "N_data = 40\n",
    "\n",
    "def class_1(key, N):\n",
    "    return -2.5 + random.normal(key, (N,))\n",
    "\n",
    "def class_2(key, N):\n",
    "    return 0.5 + random.normal(key, (N,))\n",
    "\n",
    "key1, key2 = random.split(key)\n",
    "\n",
    "x_1 = class_1(key1, N_data//2)\n",
    "x_2 = class_2(key2, N_data//2)\n",
    "\n",
    "y_1 = jnp.zeros(x_1.shape)\n",
    "y_2 = jnp.ones(x_2.shape)\n",
    "\n",
    "plt.scatter(x_1, y_1, color='blue', marker='x')\n",
    "plt.scatter(x_2, y_2, color='red', marker='x')\n",
    "plt.show()"
   ]
  },
  {
   "cell_type": "markdown",
   "id": "1507b7fa-1f16-42ee-8015-41303b57d3ad",
   "metadata": {},
   "source": [
    "We'll then assume that our data is given by a logistic regression model, with $p(y = 1 | x) = \\sigma(z)$ with $z = w x + b$."
   ]
  },
  {
   "cell_type": "code",
   "execution_count": 3,
   "id": "d0431df3-f9e3-4aa5-abe1-aa64e61119f5",
   "metadata": {},
   "outputs": [],
   "source": [
    "X = jnp.concatenate([x_1, x_2])\n",
    "Y = jnp.concatenate([y_1, y_2])\n",
    "\n",
    "def logistic(z):\n",
    "    return 1 / (1 + jnp.exp(-z))\n",
    "\n",
    "def loss_function(x, y, w, b):\n",
    "    z = x * w + b\n",
    "    return -y * jnp.log(logistic(z)) - (1-y) * jnp.log(1 - logistic(z))\n",
    "\n",
    "loss_grad_fn = jax.value_and_grad(jax.jit(lambda w, b: jnp.mean(jax.vmap(loss_function, in_axes=(0,0,None,None), out_axes=0)(X, Y, w, b))), argnums=(0, 1))"
   ]
  },
  {
   "cell_type": "code",
   "execution_count": 4,
   "id": "5df431ec-425f-457f-a26a-6dfb64ace06b",
   "metadata": {},
   "outputs": [
    {
     "name": "stdout",
     "output_type": "stream",
     "text": [
      "2.3281345\n",
      "2.9657009\n"
     ]
    }
   ],
   "source": [
    "key, subkey = random.split(key)\n",
    "w_init = random.normal(subkey)\n",
    "b_init = 0.0\n",
    "N_train = 100000\n",
    "lr = 1e-3\n",
    "losses = []\n",
    "\n",
    "w = w_init\n",
    "b = b_init\n",
    "for _ in range(N_train):\n",
    "    loss, grads = loss_grad_fn(w, b)\n",
    "    losses.append(loss)\n",
    "    w = w - lr * grads[0]\n",
    "    b = b - lr * grads[1]\n",
    "print(w)\n",
    "print(b)"
   ]
  },
  {
   "cell_type": "code",
   "execution_count": 5,
   "id": "6a7b0010-2d6a-467a-a8fd-96d41a127025",
   "metadata": {},
   "outputs": [
    {
     "data": {
      "image/png": "[encoded data removed]",
      "text/plain": [
       "<Figure size 640x480 with 1 Axes>"
      ]
     },
     "metadata": {},
     "output_type": "display_data"
    }
   ],
   "source": [
    "plt.plot(losses)\n",
    "plt.show()"
   ]
  },
  {
   "cell_type": "code",
   "execution_count": 6,
   "id": "035079b9-1e7f-4af9-b5da-3eeb11e35627",
   "metadata": {},
   "outputs": [
    {
     "data": {
      "image/png": "[encoded data removed]",
      "text/plain": [
       "<Figure size 640x480 with 1 Axes>"
      ]
     },
     "metadata": {},
     "output_type": "display_data"
    }
   ],
   "source": [
    "plt.scatter(x_1, y_1, color='blue', marker='x',label='class 0')\n",
    "plt.scatter(x_2, y_2, color='red', marker='x', label='class 1')\n",
    "x_plot = jnp.linspace(-5.0, 3.0, 1000)\n",
    "plt.plot(x_plot, logistic(x_plot * w + b), color='green',label='Logistic Classifier')\n",
    "plt.legend()\n",
    "plt.show()"
   ]
  },
  {
   "cell_type": "markdown",
   "id": "d55e50ef-fbc4-4feb-975f-88e18a4ba480",
   "metadata": {},
   "source": [
    "### 3.2: Scikit-learn for multivariate dataset\n",
    "\n",
    "For our multivariate dataset, we'll use a breast cancer diagnostic dataset with 568 individuals and 30 features per individual. We can read in the data into a pandas dataframe. We'll then separate the data into training and testing splits, with 80% of the data in the training set and 20% in the testing set. Since our data has no temporal state, we can split the training and testing data by sampling randomly without introducing data leakage."
   ]
  },
  {
   "cell_type": "code",
   "execution_count": 7,
   "id": "ae1dd653-0f01-4588-90d9-9ba10383f1a5",
   "metadata": {},
   "outputs": [
    {
     "name": "stdout",
     "output_type": "stream",
     "text": [
      "(454, 30)\n",
      "(454,)\n",
      "(114, 30)\n",
      "(114,)\n"
     ]
    }
   ],
   "source": [
    "import pandas as pd\n",
    "\n",
    "df = pd.read_csv('datasets/breast_cancer_wisconsin/wdbc.data')\n",
    "dataset = df.to_numpy()\n",
    "X = jnp.asarray(dataset[:,2:].astype(float))\n",
    "y = jnp.asarray((dataset[:,1] == 'B').astype(int))\n",
    "\n",
    "key = random.key(0)\n",
    "key, subkey = random.split(key)\n",
    "X_shuffled = random.permutation(subkey, X, axis=0)\n",
    "y_shuffled = random.permutation(subkey, y, axis=0)\n",
    "\n",
    "N_div = int(0.8 * X.shape[0])\n",
    "X_train = X_shuffled[:N_div]\n",
    "y_train = y_shuffled[:N_div]\n",
    "X_test = X_shuffled[N_div:]\n",
    "y_test = y_shuffled[N_div:]\n",
    "\n",
    "print(X_train.shape)\n",
    "print(y_train.shape)\n",
    "print(X_test.shape)\n",
    "print(y_test.shape)"
   ]
  },
  {
   "cell_type": "markdown",
   "id": "d92b9822-a14f-4cca-9517-0403b9fee8de",
   "metadata": {},
   "source": [
    "Next we can use sklearn to perform logistic regression. With the `.fit()` function we can train a model, and with the `.score()` function we can evaluate performance on the testing dataset."
   ]
  },
  {
   "cell_type": "code",
   "execution_count": 8,
   "id": "678903a0-df83-41ef-8439-815d940b9511",
   "metadata": {},
   "outputs": [
    {
     "name": "stdout",
     "output_type": "stream",
     "text": [
      "[[ 0.87870757  0.2069431  -0.3701222   0.03394358 -0.14405206 -0.20027823\n",
      "  -0.46687575 -0.26284592 -0.14658547 -0.03665695 -0.11164357  1.02741468\n",
      "   0.49204134 -0.15826768 -0.01646533  0.03437384 -0.03764003 -0.02524057\n",
      "  -0.00926124  0.00285097 -0.03401479 -0.48492786 -0.12485884 -0.01277417\n",
      "  -0.30292569 -0.56487736 -1.20251677 -0.50044586 -0.40225317 -0.09490903]]\n",
      "[36.8838356]\n"
     ]
    }
   ],
   "source": [
    "from sklearn.linear_model import LogisticRegression\n",
    "\n",
    "model = LogisticRegression(penalty='l2', max_iter=10000)\n",
    "trained_model = model.fit(X_train, y_train)\n",
    "\n",
    "print(trained_model.coef_)\n",
    "print(trained_model.intercept_)"
   ]
  },
  {
   "cell_type": "markdown",
   "id": "0d035a62-a464-451f-8413-d2471bfe6878",
   "metadata": {},
   "source": [
    "By the way, we could have also imported the dataset from the `sklearn` library, using `from sklearn.datasets import load_breast_cancer` and\n",
    "`data = load_breast_cancer()` with `X = data.data` and `y = data.target`.\n",
    "\n",
    "We'll now evaluate model performance using the test dataset."
   ]
  },
  {
   "cell_type": "code",
   "execution_count": 9,
   "id": "386a4622-0496-43a6-9aee-84cb18b24e11",
   "metadata": {},
   "outputs": [
    {
     "data": {
      "text/plain": [
       "0.9385964912280702"
      ]
     },
     "execution_count": 9,
     "metadata": {},
     "output_type": "execute_result"
    }
   ],
   "source": [
    "trained_model.score(X_test, y_test)"
   ]
  },
  {
   "cell_type": "markdown",
   "id": "a2be638f-c50d-4100-abd2-22848d9e4d61",
   "metadata": {},
   "source": [
    "We get about 93.8% accuracy."
   ]
  },
  {
   "cell_type": "markdown",
   "id": "3c41a6f1-974a-4ddb-bd79-87c0909e6599",
   "metadata": {},
   "source": [
    "### 3.3: `flax` for multivariate binary classification with logistic regression\n",
    "\n",
    "We'll first write a logistic regression model in `flax`."
   ]
  },
  {
   "cell_type": "code",
   "execution_count": 10,
   "id": "4554e0aa-4bb7-4cd3-8828-40a5e489072a",
   "metadata": {},
   "outputs": [],
   "source": [
    "from flax import nnx\n",
    "import optax\n",
    "\n",
    "class LogisticRegression(nnx.Module):\n",
    "    def __init__(self, din: int, rngs: nnx.Rngs):\n",
    "        self.linear = nnx.Linear(din, 1, rngs=rngs)\n",
    "\n",
    "    @staticmethod\n",
    "    def logistic(z):\n",
    "        return 1 / (1 + jnp.exp(-z))\n",
    "\n",
    "    def __call__(self, x):\n",
    "        return self.linear(x)"
   ]
  },
  {
   "cell_type": "code",
   "execution_count": 11,
   "id": "47cef0e3-b411-4895-b6ca-3299033df0e4",
   "metadata": {},
   "outputs": [],
   "source": [
    "rngs = nnx.Rngs(0)\n",
    "model = LogisticRegression(X.shape[1], rngs=rngs)\n",
    "optimizer = nnx.Optimizer(model, optax.sgd(1e-3))"
   ]
  },
  {
   "cell_type": "code",
   "execution_count": 12,
   "id": "1f42c363-ae8c-490f-a53b-2faf04a441a2",
   "metadata": {},
   "outputs": [],
   "source": [
    "@nnx.jit\n",
    "def train_step(model, optimizer, X_train, y_train):\n",
    "    def loss_fn(model):\n",
    "        z = model(X_train)\n",
    "        y_hat = model.logistic(z)[...,0]\n",
    "        return jnp.mean(- y_train * jnp.log(y_hat) - (1 - y_train) * jnp.log(1 - y_hat))\n",
    "\n",
    "    loss, grads = nnx.value_and_grad(loss_fn)(model)\n",
    "    optimizer.update(grads)\n",
    "\n",
    "    return loss"
   ]
  },
  {
   "cell_type": "code",
   "execution_count": 13,
   "id": "ceaa99a3-7480-4ce7-9483-95a1aafb3967",
   "metadata": {},
   "outputs": [
    {
     "name": "stdout",
     "output_type": "stream",
     "text": [
      "nan\n"
     ]
    }
   ],
   "source": [
    "loss = train_step(model, optimizer, X_train, y_train)\n",
    "print(loss)"
   ]
  },
  {
   "cell_type": "markdown",
   "id": "c49a427b-c634-456d-af5d-0839be0ce702",
   "metadata": {},
   "source": [
    "Oh no! Our loss function is giving us `NaN`s. The culprit is the `logistic` function, which gives zeros for small values of `z`. Since all the $\\hat{y}$ are zero, then the log-probabilities are all NaN."
   ]
  },
  {
   "cell_type": "code",
   "execution_count": 14,
   "id": "28be807b-6212-4f66-ba16-cc763e1fbd66",
   "metadata": {},
   "outputs": [
    {
     "name": "stdout",
     "output_type": "stream",
     "text": [
      "(454, 1)\n",
      "[nan nan nan nan nan nan nan nan nan nan]\n",
      "[nan nan nan nan nan nan nan nan nan nan]\n"
     ]
    }
   ],
   "source": [
    "z = model(X_train)\n",
    "print(z.shape)\n",
    "print(z[0:10,0])\n",
    "print(logistic(z)[0:10,0])"
   ]
  },
  {
   "cell_type": "markdown",
   "id": "cf73b81c-afb1-4544-9f9d-c28283405040",
   "metadata": {},
   "source": [
    "We'll have to find a way to eliminate `NaN`s from the loss function. To do so, we'll normalize our data."
   ]
  },
  {
   "cell_type": "markdown",
   "id": "94e79fc0-f3e5-49d2-9c05-9d064e02a8d3",
   "metadata": {},
   "source": [
    "#### 3.3.1: Normalize data\n",
    "\n",
    "Typically, machine learning models work better if the dataset has a mean of zero and a standard deviation of 1. For logistic regression, they are also more numerically stable. For each feature (in both the training and testing sets), we'll perform z-score normalization by subtracting by the mean of the training data and dividing by the standard deviation of the training data."
   ]
  },
  {
   "cell_type": "code",
   "execution_count": 15,
   "id": "49fbc57b-c115-4e74-9e3a-c77b1b117855",
   "metadata": {},
   "outputs": [],
   "source": [
    "means = jnp.mean(X_train, axis=0)\n",
    "stds = jnp.std(X_train, axis=0)\n",
    "\n",
    "X_train_normalized = (X_train - means) / stds\n",
    "X_test_normalized = (X_test - means) / stds"
   ]
  },
  {
   "cell_type": "markdown",
   "id": "455343c1-fdad-4566-8bd4-f901ed9c3868",
   "metadata": {},
   "source": [
    "Now let's try computing the loss function with the normalized data."
   ]
  },
  {
   "cell_type": "code",
   "execution_count": 16,
   "id": "b5e03505-aab3-48e5-a5e3-9657541daed8",
   "metadata": {},
   "outputs": [],
   "source": [
    "rngs = nnx.Rngs(0)\n",
    "model = LogisticRegression(X.shape[1], rngs=rngs)\n",
    "optimizer = nnx.Optimizer(model, optax.sgd(1e-3))"
   ]
  },
  {
   "cell_type": "code",
   "execution_count": 17,
   "id": "bc0e8e06-b09a-4cea-be09-7950d81bfd90",
   "metadata": {},
   "outputs": [
    {
     "name": "stdout",
     "output_type": "stream",
     "text": [
      "0.7212271\n",
      "0.71916074\n"
     ]
    }
   ],
   "source": [
    "loss = train_step(model, optimizer, X_train_normalized, y_train)\n",
    "print(loss)\n",
    "loss = train_step(model, optimizer, X_train_normalized, y_train)\n",
    "print(loss)"
   ]
  },
  {
   "cell_type": "code",
   "execution_count": 18,
   "id": "6d28c2d3-466c-4051-9b04-f975969ecaa4",
   "metadata": {},
   "outputs": [],
   "source": [
    "losses = []\n",
    "N_train = 50000\n",
    "for _ in range(N_train):\n",
    "    loss = train_step(model, optimizer, X_train_normalized, y_train)\n",
    "    losses.append(loss)"
   ]
  },
  {
   "cell_type": "code",
   "execution_count": 19,
   "id": "bec577ff-4a29-44ec-8249-bc80ccd5a514",
   "metadata": {},
   "outputs": [
    {
     "data": {
      "image/png": "[encoded data removed]",
      "text/plain": [
       "<Figure size 640x480 with 1 Axes>"
      ]
     },
     "metadata": {},
     "output_type": "display_data"
    }
   ],
   "source": [
    "plt.plot(losses)\n",
    "plt.show()"
   ]
  },
  {
   "cell_type": "markdown",
   "id": "6dd4c78a-3287-4007-9579-c5a95329e9ba",
   "metadata": {},
   "source": [
    "We'll now evaluate the performance of the trained model."
   ]
  },
  {
   "cell_type": "code",
   "execution_count": 20,
   "id": "6add67f1-bcbf-4102-9964-9e868686b3fa",
   "metadata": {},
   "outputs": [
    {
     "name": "stdout",
     "output_type": "stream",
     "text": [
      "0.94736844\n"
     ]
    }
   ],
   "source": [
    "y_hat_test = model(X_test_normalized)[:,0]\n",
    "y_test_eval = (y_hat_test > 0.5).astype(int)\n",
    "accuracy = jnp.mean((y_test == y_test_eval).astype(int))\n",
    "print(accuracy)"
   ]
  },
  {
   "cell_type": "markdown",
   "id": "b5859849-30f7-4596-9d28-7d6c8b886ddf",
   "metadata": {},
   "source": [
    "We get 94.7% accuracy on the test dataset."
   ]
  }
 ],
 "metadata": {
  "kernelspec": {
   "display_name": "Python 3 (ipykernel)",
   "language": "python",
   "name": "python3"
  },
  "language_info": {
   "codemirror_mode": {
    "name": "ipython",
    "version": 3
   },
   "file_extension": ".py",
   "mimetype": "text/x-python",
   "name": "python",
   "nbconvert_exporter": "python",
   "pygments_lexer": "ipython3",
   "version": "3.12.8"
  }
 },
 "nbformat": 4,
 "nbformat_minor": 5
}
